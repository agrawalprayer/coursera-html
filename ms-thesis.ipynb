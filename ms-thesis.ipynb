{
 "cells": [
  {
   "cell_type": "code",
   "execution_count": 28,
   "metadata": {},
   "outputs": [],
   "source": [
    "import numpy as np\n",
    "import pandas as pd"
   ]
  },
  {
   "cell_type": "code",
   "execution_count": 27,
   "metadata": {},
   "outputs": [],
   "source": [
    "# Load the alumni data\n",
    "df = pd.read_excel('ms-thesis-alumni.xlsx', dtype=str)\n",
    "df.fillna(\"-\", inplace=True)\n",
    "df_rollno = list(df['Roll No'])\n",
    "\n",
    "# Load all the sheets from the BSMS2018-ms-thesis.xlsx file\n",
    "sheets = pd.read_excel('BSMS2018-ms-thesis.xlsx', sheet_name=None, dtype=str)\n",
    "\n",
    "# List of sheet names to be processed\n",
    "sheet_names = ['BIO', 'CHM', 'PHY', 'MATH', 'ECS']\n",
    "\n",
    "# Loop through each sheet name\n",
    "for sheet in sheet_names:\n",
    "    # Load the current sheet\n",
    "    data = sheets[sheet]\n",
    "    data.fillna(\"-\", inplace=True)\n",
    "    \n",
    "    # Get roll numbers and institutes from the current sheet\n",
    "    rollno = data['Roll No']\n",
    "    inst_list = list(data['Supervisor Affiliation (Primary Site)'])\n",
    "    \n",
    "    # Update the Institute column in the alumni DataFrame\n",
    "    for i in range(len(rollno)):\n",
    "        rn = rollno[i]\n",
    "        inst = inst_list[i]\n",
    "        if rn != '-':\n",
    "            try:\n",
    "                index = df_rollno.index(rn)\n",
    "                df.iloc[index, df.columns.get_loc('Institute')] = inst\n",
    "            except ValueError:\n",
    "                # Roll number not found in df_rollno\n",
    "                continue\n",
    "\n",
    "# Save the updated DataFrame back to the Excel file\n",
    "df.to_excel('ms-thesis-alumni-updated.xlsx', index=False)\n"
   ]
  },
  {
   "cell_type": "code",
   "execution_count": null,
   "metadata": {},
   "outputs": [],
   "source": []
  },
  {
   "cell_type": "raw",
   "metadata": {
    "vscode": {
     "languageId": "raw"
    }
   },
   "source": [
    "df = pd.read_excel('ms-thesis-alumni.xlsx', dtype=str)\n",
    "df.fillna(\"-\", inplace=True)\n",
    "df_rollno = list(df['Roll No'])\n",
    "\n",
    "bio = pd.read_excel('BSMS2018-ms-thesis.xlsx', dtype=str, sheet_name='BIO')\n",
    "bio.fillna(\"-\", inplace=True)\n",
    "rollno_bio = bio['Roll No']\n",
    "inst_list_bio = list(bio['Supervisor Affiliation (Primary Site)'])\n",
    "\n",
    "for i in range(len(rollno_bio)):\n",
    "    rnbio = rollno_bio[i]\n",
    "    inst = inst_list_bio[i]\n",
    "    if rnbio != '-':\n",
    "        index = df_rollno.index(rnbio)\n",
    "        df.iloc[index, df.columns.get_loc('Institute')] = inst\n",
    "\n",
    "chm = pd.read_excel('BSMS2018-ms-thesis.xlsx', dtype=str, sheet_name='CHM')\n",
    "chm.fillna(\"-\", inplace=True)\n",
    "rollno_chm = chm['Roll No']\n",
    "inst_list_chm = list(chm['Supervisor Affiliation (Primary Site)'])\n",
    "\n",
    "for i in range(len(rollno_chm)):\n",
    "    rnchm = rollno_chm[i]\n",
    "    inst = inst_list_chm[i]\n",
    "    if rnchm != '-':\n",
    "        index = df_rollno.index(rnchm)\n",
    "        df.iloc[index, df.columns.get_loc('Institute')] = inst\n",
    "\n",
    "df.to_excel('ms-thesis-alumni-updated.xlsx', index=False)"
   ]
  }
 ],
 "metadata": {
  "kernelspec": {
   "display_name": "base",
   "language": "python",
   "name": "python3"
  },
  "language_info": {
   "codemirror_mode": {
    "name": "ipython",
    "version": 3
   },
   "file_extension": ".py",
   "mimetype": "text/x-python",
   "name": "python",
   "nbconvert_exporter": "python",
   "pygments_lexer": "ipython3",
   "version": "3.8.8"
  }
 },
 "nbformat": 4,
 "nbformat_minor": 2
}
